{
 "cells": [
  {
   "cell_type": "markdown",
   "metadata": {},
   "source": [
    "# European Option Simulation Method"
   ]
  },
  {
   "cell_type": "code",
   "execution_count": 1,
   "metadata": {},
   "outputs": [],
   "source": [
    "import time\n",
    "import numpy as np\n",
    "from math import exp, sqrt\n",
    "import functools"
   ]
  },
  {
   "cell_type": "code",
   "execution_count": 2,
   "metadata": {},
   "outputs": [],
   "source": [
    "@functools.lru_cache(maxsize=128)\n",
    "def MonteCarloValuation(So,T,k,sig,r,delta,option=\"Eput\",n=1000):\n",
    "    p = np.random.normal(0, 1, n).tolist()\n",
    "    a, b = (r-delta-.5*(sig**2))*T, sig*sqrt(T)\n",
    "    prices = (So*exp(a+b*z) for z in p)\n",
    "    \n",
    "    if option == \"Eput\":\n",
    "        return exp(-r*T)*sum((max(0,k-S) for S in prices))*(1/n)\n",
    "    \n",
    "    if option == \"Ecall\":\n",
    "        return exp(-r*T)*sum((max(0,S-k) for S in prices))*(1/n)    "
   ]
  },
  {
   "cell_type": "code",
   "execution_count": 3,
   "metadata": {},
   "outputs": [
    {
     "name": "stdout",
     "output_type": "stream",
     "text": [
      "Call price:  20.11599543438676\n",
      "Time to run:  0.42794227600097656 (s)\n"
     ]
    }
   ],
   "source": [
    "#-----------------------------#    \n",
    "So = 100\n",
    "T = 1 # 3-months, 1/4 of a year \n",
    "k = 100\n",
    "sig = .5\n",
    "r = 0.01\n",
    "delta = 0\n",
    "option = \"Ecall\"\n",
    "n = 1000000\n",
    "#-----------------------------# \n",
    "\n",
    "start = time.time()\n",
    "call_price = MonteCarloValuation(So,T,k,sig,r,delta,option,n)\n",
    "end = time.time()\n",
    "print(\"Call price: \",call_price)\n",
    "print(\"Time to run: \",end - start,\"(s)\")"
   ]
  },
  {
   "cell_type": "code",
   "execution_count": null,
   "metadata": {},
   "outputs": [],
   "source": [
    "#-----------------------------#    \n",
    "So = 100\n",
    "T = 10 # 3-months, 1/4 of a year \n",
    "k = 120\n",
    "sig = .3\n",
    "r = 0.01\n",
    "delta = 0.03\n",
    "option = \"Eput\"\n",
    "n = 1000000\n",
    "#-----------------------------#   \n",
    "\n",
    "start = time.time()\n",
    "put_price = MonteCarloValuation(So,T,k,sig,r,delta,option,n)\n",
    "end = time.time()\n",
    "print(\"Put price: \",put_price)\n",
    "print(\"Time to run: \",end - start,\"(s)\")"
   ]
  }
 ],
 "metadata": {
  "kernelspec": {
   "display_name": "Python 3",
   "language": "python",
   "name": "python3"
  },
  "language_info": {
   "codemirror_mode": {
    "name": "ipython",
    "version": 3
   },
   "file_extension": ".py",
   "mimetype": "text/x-python",
   "name": "python",
   "nbconvert_exporter": "python",
   "pygments_lexer": "ipython3",
   "version": "3.7.3"
  }
 },
 "nbformat": 4,
 "nbformat_minor": 2
}
