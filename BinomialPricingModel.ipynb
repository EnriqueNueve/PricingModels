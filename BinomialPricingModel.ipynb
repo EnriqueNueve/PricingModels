{
 "cells": [
  {
   "cell_type": "markdown",
   "metadata": {},
   "source": [
    "# Binomial Pricing Model"
   ]
  },
  {
   "cell_type": "code",
   "execution_count": null,
   "metadata": {
    "execution": {
     "iopub.execute_input": "2020-03-14T04:51:03.834Z",
     "iopub.status.busy": "2020-03-14T04:51:03.830Z",
     "iopub.status.idle": "2020-03-14T04:51:03.974Z",
     "shell.execute_reply": "2020-03-14T04:51:03.970Z"
    }
   },
   "outputs": [],
   "source": [
    "import numpy as np \n",
    "from math import exp, sqrt"
   ]
  },
  {
   "cell_type": "code",
   "execution_count": null,
   "metadata": {},
   "outputs": [],
   "source": [
    "def matprint(mat, fmt=\"g\"):\n",
    "    col_maxes = [max([len((\"{:\"+fmt+\"}\").format(x)) for x in col]) for col in mat.T]\n",
    "    for x in mat:\n",
    "        for i, y in enumerate(x):\n",
    "            print((\"{:\"+str(col_maxes[i])+fmt+\"}\").format(y), end=\"  \")\n",
    "        print(\"\")"
   ]
  },
  {
   "cell_type": "code",
   "execution_count": null,
   "metadata": {
    "execution": {
     "iopub.execute_input": "2020-03-14T04:51:07.297Z",
     "iopub.status.busy": "2020-03-14T04:51:07.290Z",
     "iopub.status.idle": "2020-03-14T04:51:07.307Z",
     "shell.execute_reply": "2020-03-14T04:51:07.313Z"
    }
   },
   "outputs": [],
   "source": [
    "\n",
    "class BinomialPriceModel(object):\n",
    "    def __init__(self,BPM_Paramaters):\n",
    "        self.So, self.h = BPM_Paramaters[\"So\"], BPM_Paramaters[\"h\"]\n",
    "        self.k, self.sig = BPM_Paramaters[\"k\"], BPM_Paramaters[\"sig\"]\n",
    "        self.r, self.delta = BPM_Paramaters[\"r\"], BPM_Paramaters[\"delta\"]\n",
    "        \n",
    "    def solve(self,option,flavor):      \n",
    "        # Gather u and d values at each step\n",
    "        u_d = []\n",
    "        [u_d.append([i,self.u_value(h),self.d_value(h),h]) for i,h in\\\n",
    "                 enumerate(self.h[::-1])]\n",
    "        \n",
    "        # Gather values at each step\n",
    "        s_values = np.zeros((len(u_d)+1, len(u_d)+1),dtype=\"float64\")\n",
    "        s_values[0,0] = self.So\n",
    "        for i in range(1,len(u_d)+1):\n",
    "            s_values[0,i] = u_d[i-1][1]*s_values[0,i-1]\n",
    "            for j in range(1,i+1):\n",
    "                s_values[j,i] = u_d[i-1][2]*s_values[j-1,i-1]     \n",
    "                \n",
    "        # Get European Values\n",
    "        vo_values = np.zeros((len(u_d)+1, len(u_d)+1),dtype=\"float64\")\n",
    "        \n",
    "        for i in range(len(u_d)+1):\n",
    "            if option == \"Call\":\n",
    "                vo_values[i,len(u_d)] = max(0, s_values[i,len(u_d)]-self.k)\n",
    "            elif option == \"Put\":  \n",
    "                vo_values[i,len(u_d)] = max(0,self.k-s_values[i,len(u_d)])\n",
    "                       \n",
    "        v_values = vo_values   \n",
    "        for t in list(reversed(range(len(u_d)))):\n",
    "            for i in range(t+1):\n",
    "                a = self.Pu_value(u_d[i][1],u_d[i][2],u_d[i][3])*vo_values[i,t+1]\n",
    "                b = self.Pd_value(u_d[i][1],u_d[i][2],u_d[i][3])*vo_values[i+1,t+1]\n",
    "                v_values[i,t] = a+b\n",
    "                \n",
    "        # Get American values \n",
    "        if flavor == \"A\": \n",
    "            Av_values = vo_values\n",
    "            Av_bool_values = np.zeros((len(u_d)+1, len(u_d)+1),dtype=\"float64\")\n",
    "            \n",
    "            for t in list(reversed(range(len(u_d)))):\n",
    "                for i in list(range(t+1)):\n",
    "                    if option == \"Put\":\n",
    "                        e = self.k - s_values[i,t]\n",
    "                    if option == \"Call\":\n",
    "                        e = s_values[i,t] - self.k\n",
    "                        \n",
    "                    a = self.Pu_value(u_d[i][1],u_d[i][2],u_d[i][3])*vo_values[i,t+1]\n",
    "                    b = self.Pd_value(u_d[i][1],u_d[i][2],u_d[i][3])*vo_values[i+1,t+1]\n",
    "                    x = a+b\n",
    "                    Av_values[i,t] = max(e,x)\n",
    "                    if e > x: \n",
    "                        Av_bool_values[i,t] = 1\n",
    "                        \n",
    "            mask = Av_values[:,-1] != 0  \n",
    "            Av_bool_values[:,-1] = mask\n",
    "        \n",
    "        if flavor == \"E\":\n",
    "            asset_value = v_values[0,0] \n",
    "            return asset_value, s_values\n",
    "        \n",
    "        if flavor == \"A\": \n",
    "            return (Av_values,Av_bool_values,s_values)\n",
    "            \n",
    "    def u_value(self,h):\n",
    "        return exp((self.r-self.delta)*h + self.sig*sqrt(h))\n",
    "\n",
    "    def d_value(self,h):\n",
    "        return exp((self.r-self.delta)*h - self.sig*sqrt(h))\n",
    "    \n",
    "    def Pu_value(self,u,d,h):\n",
    "        return exp(-self.r*h)*((exp((self.r-self.delta)*h)-d)/(u-d))\n",
    "     \n",
    "    def Pd_value(self,u,d,h):\n",
    "        return exp(-self.r*h)*((u-exp((self.r-self.delta)*h))/(u-d))    \n",
    "    "
   ]
  },
  {
   "cell_type": "code",
   "execution_count": null,
   "metadata": {
    "execution": {
     "iopub.execute_input": "2020-03-14T04:51:09.305Z",
     "iopub.status.busy": "2020-03-14T04:51:09.302Z",
     "iopub.status.idle": "2020-03-14T04:51:09.310Z",
     "shell.execute_reply": "2020-03-14T04:51:09.313Z"
    }
   },
   "outputs": [],
   "source": [
    "\"\"\"\n",
    "Examples\n",
    "10 nodes and experiation is one year; n=9 and h=1/9\n",
    "11 nodes and experation is 10 years; n=10 and h=1\n",
    "\n",
    "\"\"\"\n",
    "n = 9 # number of nodes, not including intial, also \n",
    "h = 1/9 # lentgh of period in years \n",
    "\n",
    "BPM_Paramaters = {\n",
    "\"So\": 100,\n",
    "\"h\": [h]*n, \n",
    "\"k\": 80, \n",
    "\"sig\": .4,\n",
    "\"r\": 0.01,\n",
    "\"delta\": 0,      \n",
    "}\n",
    "\n",
    "model = BinomialPriceModel(BPM_Paramaters)"
   ]
  },
  {
   "cell_type": "code",
   "execution_count": null,
   "metadata": {
    "execution": {
     "iopub.execute_input": "2020-03-14T04:51:09.839Z",
     "iopub.status.busy": "2020-03-14T04:51:09.835Z",
     "iopub.status.idle": "2020-03-14T04:51:09.848Z",
     "shell.execute_reply": "2020-03-14T04:51:09.850Z"
    }
   },
   "outputs": [],
   "source": [
    "EC_price, s_values = model.solve(option=\"Call\",flavor=\"E\")\n",
    "print(\"European Call Price: \", np.round(EC_price,8))"
   ]
  },
  {
   "cell_type": "code",
   "execution_count": null,
   "metadata": {
    "execution": {
     "iopub.execute_input": "2020-03-14T04:51:10.243Z",
     "iopub.status.busy": "2020-03-14T04:51:10.240Z",
     "iopub.status.idle": "2020-03-14T04:51:10.249Z",
     "shell.execute_reply": "2020-03-14T04:51:10.252Z"
    }
   },
   "outputs": [],
   "source": [
    "EP_price, s_values = model.solve(option=\"Put\",flavor=\"E\")\n",
    "print(\"European Put Price: \",np.round(EP_price,8))"
   ]
  },
  {
   "cell_type": "code",
   "execution_count": null,
   "metadata": {
    "execution": {
     "iopub.execute_input": "2020-03-14T04:51:11.023Z",
     "iopub.status.busy": "2020-03-14T04:51:11.021Z",
     "iopub.status.idle": "2020-03-14T04:51:11.030Z",
     "shell.execute_reply": "2020-03-14T04:51:11.033Z"
    }
   },
   "outputs": [],
   "source": [
    "AP_price, AP_bool,s_values = model.solve(option=\"Put\",flavor=\"A\")\n",
    "np.set_printoptions(precision=3)\n",
    "np.set_printoptions(formatter={'float': '{: 0.3f}'.format})\n",
    "print(\"American Put Price: \",\"\\n\",np.round(AP_price,8))"
   ]
  },
  {
   "cell_type": "code",
   "execution_count": null,
   "metadata": {
    "execution": {
     "iopub.execute_input": "2020-03-14T04:51:30.818Z",
     "iopub.status.busy": "2020-03-14T04:51:30.814Z",
     "iopub.status.idle": "2020-03-14T04:51:30.826Z",
     "shell.execute_reply": "2020-03-14T04:51:30.828Z"
    }
   },
   "outputs": [],
   "source": [
    "AC_price, AC_bool,s_values = model.solve(option=\"Call\",flavor=\"A\")\n",
    "print(AC_price.shape)\n",
    "print(\"American Call Price: \")\n",
    "matprint(np.round(AC_price,5))\n",
    "np.set_printoptions(precision=5)\n",
    "np.set_printoptions(formatter={'float': '{: 0.5f}'.format})"
   ]
  }
 ],
 "metadata": {
  "kernelspec": {
   "display_name": "Python 3",
   "language": "python",
   "name": "python3"
  },
  "language_info": {
   "codemirror_mode": {
    "name": "ipython",
    "version": 3
   },
   "file_extension": ".py",
   "mimetype": "text/x-python",
   "name": "python",
   "nbconvert_exporter": "python",
   "pygments_lexer": "ipython3",
   "version": "3.7.3"
  },
  "nteract": {
   "version": "0.22.0"
  }
 },
 "nbformat": 4,
 "nbformat_minor": 2
}
