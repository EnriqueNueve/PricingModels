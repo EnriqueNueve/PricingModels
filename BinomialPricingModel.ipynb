{
  "cells": [
    {
      "cell_type": "markdown",
      "source": [
        "# Binomial Pricing Model"
      ],
      "metadata": {}
    },
    {
      "cell_type": "code",
      "source": [
        "import numpy as np \n",
        "from math import exp, sqrt"
      ],
      "outputs": [],
      "execution_count": 1,
      "metadata": {
        "execution": {
          "iopub.status.busy": "2020-03-14T04:51:03.830Z",
          "iopub.execute_input": "2020-03-14T04:51:03.834Z",
          "iopub.status.idle": "2020-03-14T04:51:03.974Z",
          "shell.execute_reply": "2020-03-14T04:51:03.970Z"
        }
      }
    },
    {
      "cell_type": "code",
      "source": [
        "\n",
        "class BinomialPriceModel(object):\n",
        "    def __init__(self,BPM_Paramaters):\n",
        "        self.So, self.h = BPM_Paramaters[\"So\"], BPM_Paramaters[\"h\"]\n",
        "        self.k, self.sig = BPM_Paramaters[\"k\"], BPM_Paramaters[\"sig\"]\n",
        "        self.r, self.delta = BPM_Paramaters[\"r\"], BPM_Paramaters[\"delta\"]\n",
        "        \n",
        "    def solve(self,option,flavor):      \n",
        "        # Gather u and d values at each step\n",
        "        u_d = []\n",
        "        [u_d.append([i,self.u_value(h),self.d_value(h),h]) for i,h in\\\n",
        "                 enumerate(self.h[::-1])]\n",
        "        \n",
        "        # Gather values at each step\n",
        "        s_values = np.zeros((len(u_d)+1, len(u_d)+1),dtype=\"float64\")\n",
        "        s_values[0,0] = self.So\n",
        "        for i in range(1,len(u_d)+1):\n",
        "            s_values[0,i] = u_d[i-1][1]*s_values[0,i-1]\n",
        "            for j in range(1,i+1):\n",
        "                s_values[j,i] = u_d[i-1][2]*s_values[j-1,i-1]     \n",
        "                \n",
        "        # Get European Values\n",
        "        vo_values = np.zeros((len(u_d)+1, len(u_d)+1),dtype=\"float64\")\n",
        "        \n",
        "        for i in range(len(u_d)+1):\n",
        "            if option == \"Call\":\n",
        "                vo_values[i,len(u_d)] = max(0, s_values[i,len(u_d)]-self.k)\n",
        "            elif option == \"Put\":  \n",
        "                vo_values[i,len(u_d)] = max(0,self.k-s_values[i,len(u_d)])\n",
        "                       \n",
        "        v_values = vo_values   \n",
        "        for t in list(reversed(range(len(u_d)))):\n",
        "            for i in range(t+1):\n",
        "                a = self.Pu_value(u_d[i][1],u_d[i][2],u_d[i][3])*vo_values[i,t+1]\n",
        "                b = self.Pd_value(u_d[i][1],u_d[i][2],u_d[i][3])*vo_values[i+1,t+1]\n",
        "                v_values[i,t] = a+b\n",
        "                \n",
        "        # Get American values \n",
        "        if flavor == \"A\": \n",
        "            Av_values = vo_values\n",
        "            Av_bool_values = np.zeros((len(u_d)+1, len(u_d)+1),dtype=\"float64\")\n",
        "            \n",
        "            for t in list(reversed(range(len(u_d)))):\n",
        "                for i in list(range(t+1)):\n",
        "                    if option == \"Put\":\n",
        "                        e = self.k - s_values[i,t]\n",
        "                    if option == \"Call\":\n",
        "                        e = s_values[i,t] - self.k\n",
        "                        \n",
        "                    a = self.Pu_value(u_d[i][1],u_d[i][2],u_d[i][3])*vo_values[i,t+1]\n",
        "                    b = self.Pd_value(u_d[i][1],u_d[i][2],u_d[i][3])*vo_values[i+1,t+1]\n",
        "                    x = a+b\n",
        "                    Av_values[i,t] = max(e,x)\n",
        "                    if e > x: \n",
        "                        Av_bool_values[i,t] = 1\n",
        "                        \n",
        "            mask = Av_values[:,-1] != 0  \n",
        "            Av_bool_values[:,-1] = mask\n",
        "        \n",
        "        if flavor == \"E\":\n",
        "            asset_value = v_values[0,0] \n",
        "            return asset_value\n",
        "        \n",
        "        if flavor == \"A\": \n",
        "            return (Av_values,Av_bool_values)\n",
        "            \n",
        "    def u_value(self,h):\n",
        "        return exp((self.r-self.delta)*h + self.sig*sqrt(h))\n",
        "\n",
        "    def d_value(self,h):\n",
        "        return exp((self.r-self.delta)*h - self.sig*sqrt(h))\n",
        "    \n",
        "    def Pu_value(self,u,d,h):\n",
        "        return exp(-self.r*h)*((exp((self.r-self.delta)*h)-d)/(u-d))\n",
        "     \n",
        "    def Pd_value(self,u,d,h):\n",
        "        return exp(-self.r*h)*((u-exp((self.r-self.delta)*h))/(u-d))    \n",
        "    "
      ],
      "outputs": [],
      "execution_count": 2,
      "metadata": {
        "execution": {
          "iopub.status.busy": "2020-03-14T04:51:07.290Z",
          "iopub.execute_input": "2020-03-14T04:51:07.297Z",
          "iopub.status.idle": "2020-03-14T04:51:07.307Z",
          "shell.execute_reply": "2020-03-14T04:51:07.313Z"
        }
      }
    },
    {
      "cell_type": "code",
      "source": [
        "n = 9\n",
        "\n",
        "BPM_Paramaters = {\n",
        "\"So\": 100,\n",
        "\"h\": [1/n]*n, \n",
        "\"k\": 80, \n",
        "\"sig\": .4,\n",
        "\"r\": 0,\n",
        "\"delta\": 0.01,      \n",
        "}\n",
        "\n",
        "model = BinomialPriceModel(BPM_Paramaters)"
      ],
      "outputs": [],
      "execution_count": 3,
      "metadata": {
        "execution": {
          "iopub.status.busy": "2020-03-14T04:51:09.302Z",
          "iopub.execute_input": "2020-03-14T04:51:09.305Z",
          "iopub.status.idle": "2020-03-14T04:51:09.310Z",
          "shell.execute_reply": "2020-03-14T04:51:09.313Z"
        }
      }
    },
    {
      "cell_type": "code",
      "source": [
        "EC_price = model.solve(option=\"Call\",flavor=\"E\")\n",
        "print(\"European Call Price: \", np.round(EC_price,8))"
      ],
      "outputs": [
        {
          "output_type": "stream",
          "name": "stdout",
          "text": [
            "European Call Price:  25.79232528\n"
          ]
        }
      ],
      "execution_count": 4,
      "metadata": {
        "execution": {
          "iopub.status.busy": "2020-03-14T04:51:09.835Z",
          "iopub.execute_input": "2020-03-14T04:51:09.839Z",
          "iopub.status.idle": "2020-03-14T04:51:09.848Z",
          "shell.execute_reply": "2020-03-14T04:51:09.850Z"
        }
      }
    },
    {
      "cell_type": "code",
      "source": [
        "EP_price = model.solve(option=\"Put\",flavor=\"E\")\n",
        "print(\"European Put Price: \",np.round(EP_price,8))"
      ],
      "outputs": [
        {
          "output_type": "stream",
          "name": "stdout",
          "text": [
            "European Put Price:  6.78734191\n"
          ]
        }
      ],
      "execution_count": 5,
      "metadata": {
        "execution": {
          "iopub.status.busy": "2020-03-14T04:51:10.240Z",
          "iopub.execute_input": "2020-03-14T04:51:10.243Z",
          "iopub.status.idle": "2020-03-14T04:51:10.249Z",
          "shell.execute_reply": "2020-03-14T04:51:10.252Z"
        }
      }
    },
    {
      "cell_type": "code",
      "source": [
        "AP_price, AP_bool = model.solve(option=\"Put\",flavor=\"A\")\n",
        "np.set_printoptions(precision=3)\n",
        "np.set_printoptions(formatter={'float': '{: 0.3f}'.format})\n",
        "print(\"American Put Price: \",\"\\n\",np.round(AP_price,8))"
      ],
      "outputs": [
        {
          "output_type": "stream",
          "name": "stdout",
          "text": [
            "American Put Price:  \n",
            " [[ 6.787  3.517  1.382  0.314  0.000  0.000  0.000  0.000  0.000  0.000]\n",
            " [ 0.000  9.649  5.386  2.318  0.588  0.000  0.000  0.000  0.000  0.000]\n",
            " [ 0.000  0.000  13.380  8.071  3.832  1.103  0.000  0.000  0.000  0.000]\n",
            " [ 0.000  0.000  0.000  18.027  11.781  6.220  2.068  0.000  0.000  0.000]\n",
            " [ 0.000  0.000  0.000  0.000  23.494  16.648  9.853  3.878  0.000  0.000]\n",
            " [ 0.000  0.000  0.000  0.000  0.000  29.485  22.595  15.083  7.271\n",
            "   0.000]\n",
            " [ 0.000  0.000  0.000  0.000  0.000  0.000  35.514  29.169  21.919\n",
            "   13.635]\n",
            " [ 0.000  0.000  0.000  0.000  0.000  0.000  0.000  41.067  35.514\n",
            "   29.169]\n",
            " [ 0.000  0.000  0.000  0.000  0.000  0.000  0.000  0.000  45.927  41.067]\n",
            " [ 0.000  0.000  0.000  0.000  0.000  0.000  0.000  0.000  0.000  50.180]]\n"
          ]
        }
      ],
      "execution_count": 6,
      "metadata": {
        "execution": {
          "iopub.status.busy": "2020-03-14T04:51:11.021Z",
          "iopub.execute_input": "2020-03-14T04:51:11.023Z",
          "iopub.status.idle": "2020-03-14T04:51:11.030Z",
          "shell.execute_reply": "2020-03-14T04:51:11.033Z"
        }
      }
    },
    {
      "cell_type": "code",
      "source": [
        "print(AP_bool)"
      ],
      "outputs": [
        {
          "output_type": "stream",
          "name": "stdout",
          "text": [
            "[[ 0.000  0.000  0.000  0.000  0.000  0.000  0.000  0.000  0.000  0.000]\n",
            " [ 0.000  0.000  0.000  0.000  0.000  0.000  0.000  0.000  0.000  0.000]\n",
            " [ 0.000  0.000  0.000  0.000  0.000  0.000  0.000  0.000  0.000  0.000]\n",
            " [ 0.000  0.000  0.000  0.000  0.000  0.000  0.000  0.000  0.000  0.000]\n",
            " [ 0.000  0.000  0.000  0.000  0.000  0.000  0.000  0.000  0.000  0.000]\n",
            " [ 0.000  0.000  0.000  0.000  0.000  0.000  0.000  0.000  0.000  0.000]\n",
            " [ 0.000  0.000  0.000  0.000  0.000  0.000  0.000  0.000  0.000  1.000]\n",
            " [ 0.000  0.000  0.000  0.000  0.000  0.000  0.000  0.000  0.000  1.000]\n",
            " [ 0.000  0.000  0.000  0.000  0.000  0.000  0.000  0.000  0.000  1.000]\n",
            " [ 0.000  0.000  0.000  0.000  0.000  0.000  0.000  0.000  0.000  1.000]]\n"
          ]
        }
      ],
      "execution_count": 7,
      "metadata": {
        "collapsed": false,
        "jupyter": {
          "source_hidden": false,
          "outputs_hidden": false
        },
        "nteract": {
          "transient": {
            "deleting": false
          }
        },
        "execution": {
          "iopub.status.busy": "2020-03-14T04:51:12.252Z",
          "iopub.execute_input": "2020-03-14T04:51:12.255Z",
          "iopub.status.idle": "2020-03-14T04:51:12.260Z",
          "shell.execute_reply": "2020-03-14T04:51:12.263Z"
        }
      }
    },
    {
      "cell_type": "code",
      "source": [
        "AC_price, AC_bool = model.solve(option=\"Call\",flavor=\"A\")\n",
        "print(\"American Call Price: \",\"\\n\",np.round(AC_price,8))\n",
        "np.set_printoptions(precision=3)\n",
        "np.set_printoptions(formatter={'float': '{: 0.3f}'.format})"
      ],
      "outputs": [
        {
          "output_type": "stream",
          "name": "stdout",
          "text": [
            "American Call Price:  \n",
            " [[ 26.013  36.973  51.125  68.694  89.705  113.694  141.075  172.327\n",
            "   207.996  248.708]\n",
            " [ 0.000  16.420  24.588  35.749  50.305  68.356  89.328  113.264\n",
            "   140.585  171.767]\n",
            " [ 0.000  0.000  9.272  14.821  23.009  34.508  49.693  68.027  88.952\n",
            "   112.835]\n",
            " [ 0.000  0.000  0.000  4.415  7.655  12.947  21.218  33.378  49.405\n",
            "   67.698]\n",
            " [ 0.000  0.000  0.000  0.000  1.580  3.024  5.708  10.576  19.115\n",
            "   33.126]\n",
            " [ 0.000  0.000  0.000  0.000  0.000  0.315  0.676  1.448  3.102  6.647]\n",
            " [ 0.000  0.000  0.000  0.000  0.000  0.000  0.000  0.000  0.000  0.000]\n",
            " [ 0.000  0.000  0.000  0.000  0.000  0.000  0.000  0.000  0.000  0.000]\n",
            " [ 0.000  0.000  0.000  0.000  0.000  0.000  0.000  0.000  0.000  0.000]\n",
            " [ 0.000  0.000  0.000  0.000  0.000  0.000  0.000  0.000  0.000  0.000]]\n"
          ]
        }
      ],
      "execution_count": 9,
      "metadata": {
        "execution": {
          "iopub.status.busy": "2020-03-14T04:51:30.814Z",
          "iopub.execute_input": "2020-03-14T04:51:30.818Z",
          "iopub.status.idle": "2020-03-14T04:51:30.826Z",
          "shell.execute_reply": "2020-03-14T04:51:30.828Z"
        }
      }
    },
    {
      "cell_type": "code",
      "source": [
        "print(AC_bool)"
      ],
      "outputs": [
        {
          "output_type": "stream",
          "name": "stdout",
          "text": [
            "[[ 0.000  0.000  0.000  0.000  1.000  1.000  1.000  1.000  1.000  1.000]\n",
            " [ 0.000  0.000  0.000  0.000  0.000  1.000  1.000  1.000  1.000  1.000]\n",
            " [ 0.000  0.000  0.000  0.000  0.000  0.000  1.000  1.000  1.000  1.000]\n",
            " [ 0.000  0.000  0.000  0.000  0.000  0.000  0.000  1.000  1.000  1.000]\n",
            " [ 0.000  0.000  0.000  0.000  0.000  0.000  0.000  0.000  1.000  1.000]\n",
            " [ 0.000  0.000  0.000  0.000  0.000  0.000  0.000  0.000  0.000  1.000]\n",
            " [ 0.000  0.000  0.000  0.000  0.000  0.000  0.000  0.000  0.000  0.000]\n",
            " [ 0.000  0.000  0.000  0.000  0.000  0.000  0.000  0.000  0.000  0.000]\n",
            " [ 0.000  0.000  0.000  0.000  0.000  0.000  0.000  0.000  0.000  0.000]\n",
            " [ 0.000  0.000  0.000  0.000  0.000  0.000  0.000  0.000  0.000  0.000]]\n"
          ]
        }
      ],
      "execution_count": 10,
      "metadata": {
        "collapsed": false,
        "jupyter": {
          "source_hidden": false,
          "outputs_hidden": false
        },
        "nteract": {
          "transient": {
            "deleting": false
          }
        },
        "execution": {
          "iopub.status.busy": "2020-03-14T04:51:34.557Z",
          "iopub.execute_input": "2020-03-14T04:51:34.562Z",
          "iopub.status.idle": "2020-03-14T04:51:34.572Z",
          "shell.execute_reply": "2020-03-14T04:51:34.577Z"
        }
      }
    }
  ],
  "metadata": {
    "kernelspec": {
      "display_name": "Python 3",
      "language": "python",
      "name": "python3"
    },
    "language_info": {
      "name": "python",
      "version": "3.7.3",
      "mimetype": "text/x-python",
      "codemirror_mode": {
        "name": "ipython",
        "version": 3
      },
      "pygments_lexer": "ipython3",
      "nbconvert_exporter": "python",
      "file_extension": ".py"
    },
    "nteract": {
      "version": "0.22.0"
    }
  },
  "nbformat": 4,
  "nbformat_minor": 2
}